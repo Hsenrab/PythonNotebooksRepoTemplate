{
 "cells": [
  {
   "cell_type": "markdown",
   "id": "0",
   "metadata": {},
   "source": [
    "# Error Demo Notebook\n",
    "\n",
    "This notebook deliberately contains errors to demonstrate how the testing framework detects problems in notebooks. *Line needs uncommenting*\n",
    "\n",
    "When you run:\n",
    "```\n",
    "pytest --nbmake error_demo_notebook.ipynb\n",
    "```\n",
    "or to test all notebooks\n",
    "\n",
    "```\n",
    "pytest --nbmake .\n",
    "```\n",
    "\n",
    "The test will fail with a NameError, showing exactly which cell failed."
   ]
  },
  {
   "cell_type": "markdown",
   "id": "1",
   "metadata": {},
   "source": [
    "## 🔍 Valid Python Code"
   ]
  },
  {
   "cell_type": "code",
   "execution_count": null,
   "id": "2",
   "metadata": {},
   "outputs": [],
   "source": [
    "# This cell executes correctly\n",
    "print(\"This cell runs without errors\")\n",
    "\n",
    "# Define a variable\n",
    "x = 10\n",
    "print(f\"x = {x}\")"
   ]
  },
  {
   "cell_type": "markdown",
   "id": "3",
   "metadata": {},
   "source": [
    "## 💥 Cell with Error"
   ]
  },
  {
   "cell_type": "code",
   "execution_count": null,
   "id": "4",
   "metadata": {},
   "outputs": [],
   "source": [
    "# Uncomment the line below to see the error\n",
    "\n",
    "print(f\"Value: {undefined_variable}\")\n",
    "\n",
    "Another branch check. Try again\n"
   ]
  }
 ],
 "metadata": {
  "language_info": {
   "name": "python"
  }
 },
 "nbformat": 4,
 "nbformat_minor": 5
}
