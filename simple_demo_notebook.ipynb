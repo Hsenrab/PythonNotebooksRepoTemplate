{
 "cells": [
  {
   "cell_type": "markdown",
   "id": "0",
   "metadata": {},
   "source": [
    "# Simple Demo Notebook\n",
    "\n",
    "This notebook demonstrates all the key concepts and patterns used in this template repository:\n",
    "\n",
    "- ✅ Environment Variables\n",
    "- 🔄 Testing Integration (Phase 5)\n",
    "- 🔒 Azure Authentication (Phase 7)\n",
    "- 📊 Data Analysis Examples\n",
    "\n",
    "Each section shows clean, simple patterns you can copy to your own notebooks.\n",
    "\n"
   ]
  },
  {
   "cell_type": "markdown",
   "id": "1",
   "metadata": {},
   "source": [
    "## 🔧 Load Environment Variables"
   ]
  },
  {
   "cell_type": "code",
   "execution_count": null,
   "id": "2",
   "metadata": {},
   "outputs": [],
   "source": [
    "import os\n",
    "from dotenv import load_dotenv\n",
    "\n",
    "# Load environment variables\n",
    "load_dotenv()\n",
    "\n",
    "# Get configuration\n",
    "project_name = os.getenv('PROJECT_NAME')\n",
    "\n",
    "\n",
    "print(f\"Project: {project_name}\")\n"
   ]
  },
  {
   "cell_type": "markdown",
   "id": "3",
   "metadata": {},
   "source": [
    "## 🧪 Testing Integration Demo\n",
    "\n",
    "*Coming in Phase 5 - will show how notebooks are automatically tested*\n",
    "\n",
    "## 🔒 Azure Authentication Demo  \n",
    "\n",
    "*Coming in Phase 7 - will show secure Azure authentication patterns*\n",
    "\n",
    "## 📊 AI Foundry Demo\n",
    "\n",
    "*Coming later - will show connection to AI Foundry with environment configuration*"
   ]
  }
 ],
 "metadata": {
  "kernelspec": {
   "display_name": "notebook-env",
   "language": "python",
   "name": "python3"
  },
  "language_info": {
   "codemirror_mode": {
    "name": "ipython",
    "version": 3
   },
   "file_extension": ".py",
   "mimetype": "text/x-python",
   "name": "python",
   "nbconvert_exporter": "python",
   "pygments_lexer": "ipython3",
   "version": "3.10.8"
  }
 },
 "nbformat": 4,
 "nbformat_minor": 5
}
